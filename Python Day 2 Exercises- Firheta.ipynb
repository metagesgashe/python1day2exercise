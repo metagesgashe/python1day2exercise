{
 "cells": [
  {
   "cell_type": "markdown",
   "metadata": {},
   "source": [
    "Exercise 1. Print out if 25 multiplied by 54 is bigger than 33 multipled by 33"
   ]
  },
  {
   "cell_type": "code",
   "execution_count": 1,
   "metadata": {},
   "outputs": [
    {
     "name": "stdout",
     "output_type": "stream",
     "text": [
      "True\n"
     ]
    }
   ],
   "source": [
    "# the result is True. \n",
    "print((25*54) > (33*33))"
   ]
  },
  {
   "cell_type": "markdown",
   "metadata": {},
   "source": [
    "Exercise 2. Write a function called favorite_book() that accepts one parameter, title. The function should print a message, such as 'One of my favorite books is Alice in Wonderland.' Call the function, making sure to include a book title as an argument in the function call."
   ]
  },
  {
   "cell_type": "code",
   "execution_count": 2,
   "metadata": {},
   "outputs": [
    {
     "name": "stdout",
     "output_type": "stream",
     "text": [
      "One of my favorite books is Alice in Wonderland.\n"
     ]
    }
   ],
   "source": [
    "def favorite_book(title):\n",
    "    print(f\"One of my favorite books is {title}\")\n",
    "\n",
    "mytitle = \"Alice in Wonderland.\"\n",
    "favorite_book(mytitle)"
   ]
  },
  {
   "cell_type": "markdown",
   "metadata": {},
   "source": [
    "Exercise 3. Write a function called multiply_two() that accepts two parameters. The function should print a meesage like '15 + 2 = 17'.  Randomly generate two numbers between 1 and 100, then call the function with the two random numbers."
   ]
  },
  {
   "cell_type": "code",
   "execution_count": 3,
   "metadata": {},
   "outputs": [
    {
     "name": "stdout",
     "output_type": "stream",
     "text": [
      " 54 + 45 = 99\n"
     ]
    }
   ],
   "source": [
    "import random as rand\n",
    "def multiply_two(numb1, numb2):\n",
    "    return numb1 + numb2\n",
    "numb1 = rand.randint(1, 100)\n",
    "numb2 = rand.randint(1, 100)\n",
    "\n",
    "print(f\" {numb1} + {numb2} = {multiply_two(numb1, numb2)}\")\n",
    "    "
   ]
  },
  {
   "cell_type": "markdown",
   "metadata": {},
   "source": [
    "Exercise 4: Write a function called make_shirt() that accepts a size and the text of a message. The function should print a sentence summarizing the size of the shirt and the message printed on it. The default shirt size is large and default message is 'I love Python!' Make a large shirt and a medium shirt with the default message, and a shirt of any size with a different message."
   ]
  },
  {
   "cell_type": "code",
   "execution_count": 4,
   "metadata": {},
   "outputs": [
    {
     "name": "stdout",
     "output_type": "stream",
     "text": [
      "The size is large and the message is 'I love Python!'\n",
      "The size is medium and the message is 'I love Python!'\n",
      "The size is small and the message is Hello \n"
     ]
    }
   ],
   "source": [
    "def make_shirt(size, text):\n",
    "    print(f\"The size is {size} and the message is {text}\")\n",
    "    \n",
    "        \n",
    "make_shirt(\"large\",\"'I love Python!'\")\n",
    "make_shirt(\"medium\", \"'I love Python!'\")\n",
    "make_shirt(\"small\", \"Hello \")\n"
   ]
  },
  {
   "cell_type": "markdown",
   "metadata": {},
   "source": [
    "Exercise 5. Ask for a color and store that answer. \n",
    "If the answer is grey then print out you found Victor's favorite color.\n",
    "Otherwise print out the color is not Victor's favorite color."
   ]
  },
  {
   "cell_type": "code",
   "execution_count": 5,
   "metadata": {},
   "outputs": [
    {
     "name": "stdout",
     "output_type": "stream",
     "text": [
      "what is the color? >grey\n",
      "you found Victor's favorite color.\n"
     ]
    }
   ],
   "source": [
    "answer = input(\"what is the color? >\")\n",
    "if answer == \"grey\":\n",
    "    print(\"you found Victor's favorite color.\")\n",
    "else:\n",
    "    print(\"the color is not Victor's favorite color.\")"
   ]
  },
  {
   "cell_type": "markdown",
   "metadata": {},
   "source": [
    "Exercise 6. Modify code from exercise #2 and add in more conditions for other colors such as red, green, blue and write statements for them. "
   ]
  },
  {
   "cell_type": "code",
   "execution_count": 6,
   "metadata": {},
   "outputs": [
    {
     "name": "stdout",
     "output_type": "stream",
     "text": [
      "what is the color? >blue\n",
      "this is sky's color\n"
     ]
    }
   ],
   "source": [
    "# I think it should be from exercise #5\n",
    "answer = input(\"what is the color? >\")\n",
    "if answer == \"grey\":\n",
    "    print(\"you found Victor's favorite color.\")\n",
    "elif answer == \"red\":\n",
    "    print(\"this color signal is to stop traffic\")\n",
    "elif answer == \"green\":\n",
    "    print(\"this color signal is to allow traffic to go\")\n",
    "elif answer == \"blue\":\n",
    "    print(\"this is sky's color\")\n",
    "else:\n",
    "    print(\"the color is not Victor's favorite color.\")"
   ]
  },
  {
   "cell_type": "markdown",
   "metadata": {},
   "source": [
    "Exercise 7. Ask for an exam score and store that number. If the number is greater than 100, then print out 'You cannot have an exam score higher than 100'. If the number doesn't exceeed 100 but is greater than or equal to 75, then print out 'You did great on your exam!'. Otherwise if they scored lower than 75, then print out 'You need to study harder'."
   ]
  },
  {
   "cell_type": "code",
   "execution_count": 7,
   "metadata": {},
   "outputs": [
    {
     "name": "stdout",
     "output_type": "stream",
     "text": [
      "what is the exam score? ->98\n",
      "'You did great on your exam!'\n"
     ]
    }
   ],
   "source": [
    "answer = float(input(\"what is the exam score? ->\"))\n",
    "if answer > 100:\n",
    "    print(\"'You cannot have an exam score higher than 100'\")\n",
    "elif answer>= 75:\n",
    "    print(\"'You did great on your exam!'\")\n",
    "else:\n",
    "    print(\" 'You need to study harder'\")"
   ]
  },
  {
   "cell_type": "markdown",
   "metadata": {},
   "source": [
    "Exercise 8. \n",
    "Define two functions: \n",
    "    - a function that takes 3 arguements and returns the sum of three arguements\n",
    "    - a function that takes 2 arguements and returns the result of 1st arguement multiplied by 2nd arguement\n",
    "\n",
    "Then tell the user to choose option 1 to add three numbers or option 2 to multiply two numbers.\n",
    "If the user choose option 1 then call the addition function, otherwise if they choose option 2 then call the mulitplication function.  If the user choose anything other than option 1 or 2, then generate a friendly error messsage"
   ]
  },
  {
   "cell_type": "code",
   "execution_count": 8,
   "metadata": {},
   "outputs": [
    {
     "name": "stdout",
     "output_type": "stream",
     "text": [
      "choose option 1 to add three numbers \n",
      "or option 2 to multiply two numbers ->1\n",
      "what is the first number? ->10\n",
      "what is the second number? ->10\n",
      "what is the third number? ->10\n",
      "the sum is 30\n"
     ]
    }
   ],
   "source": [
    "def add(a, b, c):\n",
    "    return a + b + c\n",
    "def multiply(a, b):\n",
    "    return a * b\n",
    "option = int(input(\"\"\"choose option 1 to add three numbers \n",
    "or option 2 to multiply two numbers ->\"\"\"))\n",
    "\n",
    "if option == 1:\n",
    "    num1 = int(input(\"what is the first number? ->\"))\n",
    "    num2 = int(input(\"what is the second number? ->\"))\n",
    "    num3 = int(input(\"what is the third number? ->\"))\n",
    "    print(f\"the sum is {add(num1, num2, num3)}\")\n",
    "elif option == 2:\n",
    "    num1 = int(input(\"what is the first number? ->\"))\n",
    "    num2 = int(input(\"what is the second number? ->\"))\n",
    "    print(f\"the result is {multiply(num1, num2)}\")\n",
    "else:\n",
    "    print(\"*** ERROR please enter the right option.\")"
   ]
  },
  {
   "cell_type": "markdown",
   "metadata": {},
   "source": [
    "Exercise 9. \n",
    "Write a function to convert a test score to a grade where  \n",
    " - 90 - 100: A\n",
    " - 80 - 89:  B\n",
    " - 70 - 79:  C\n",
    " - 60 - 69:  D\n",
    " - < 60   :  F\n",
    " \n",
    "If a score is not between 0 and 100 then print out an error message. In the program, ask the user for a score and then call your function. "
   ]
  },
  {
   "cell_type": "code",
   "execution_count": 9,
   "metadata": {},
   "outputs": [
    {
     "name": "stdout",
     "output_type": "stream",
     "text": [
      "what is the score? ->98\n",
      "A\n"
     ]
    }
   ],
   "source": [
    "def test_score(score):\n",
    "    if score >= 90 and score <= 100:\n",
    "        print(\"A\")\n",
    "    elif score >=80 and score <= 100:\n",
    "        print(\"B\")\n",
    "    elif score >= 70 and score <= 100:\n",
    "        print(\"C\")\n",
    "    elif score >= 60 and score <= 100:\n",
    "        print(\"D\")\n",
    "    elif score >= 0 and score <= 100:\n",
    "        print(\"F\")\n",
    "    else:\n",
    "        print(\"*** ERROR please enter the correct score\")\n",
    "ans = float(input(\"what is the score? ->\"))\n",
    "test_score(ans)"
   ]
  },
  {
   "cell_type": "markdown",
   "metadata": {},
   "source": [
    "Exercise 10. Write a program to compute discounts for customers.  \n",
    "- For retail customers, \n",
    "    - if invoice total is greater than \\$100 then discount rate is 10\\%, otherwise no discount \n",
    "\n",
    "- For wholesale customers,\n",
    "    - if invoice total is greater than \\$500 then discount rate is 30\\%, otherwise discount rate is 20\\%\n",
    "    \n",
    "Get the type of customer and the invoice total from the user."
   ]
  },
  {
   "cell_type": "code",
   "execution_count": 10,
   "metadata": {},
   "outputs": [
    {
     "name": "stdout",
     "output_type": "stream",
     "text": [
      "is the customer 'retail' or 'wholesale'? ->wholesale\n",
      "howmuch is the invoice total? ->600\n",
      "the discount is $180.00\n"
     ]
    }
   ],
   "source": [
    "customer = input(\"is the customer 'retail' or 'wholesale'? ->\")\n",
    "\n",
    "if customer == \"retail\":\n",
    "    total = float(input(\"howmuch is the invoice total? ->\"))\n",
    "    if total > 100:\n",
    "        print(f\"the discount is ${total*0.1:.2f}\")\n",
    "    else:\n",
    "        print(\"no discount\")\n",
    "elif customer == \"wholesale\":\n",
    "    total = float(input(\"howmuch is the invoice total? ->\"))\n",
    "    if total > 500:\n",
    "        print(f\"the discount is ${total*0.3:.2f}\")\n",
    "    else:\n",
    "        print(f\"the discount is ${total*0.2:.2f}\")\n",
    "else:\n",
    "    print(\"please enter the type of customer...\")"
   ]
  },
  {
   "cell_type": "code",
   "execution_count": null,
   "metadata": {},
   "outputs": [],
   "source": []
  }
 ],
 "metadata": {
  "kernelspec": {
   "display_name": "Python 3",
   "language": "python",
   "name": "python3"
  },
  "language_info": {
   "codemirror_mode": {
    "name": "ipython",
    "version": 3
   },
   "file_extension": ".py",
   "mimetype": "text/x-python",
   "name": "python",
   "nbconvert_exporter": "python",
   "pygments_lexer": "ipython3",
   "version": "3.8.3"
  }
 },
 "nbformat": 4,
 "nbformat_minor": 4
}
